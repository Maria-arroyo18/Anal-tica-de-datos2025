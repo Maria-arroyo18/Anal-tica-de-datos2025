{
  "cells": [
    {
      "cell_type": "markdown",
      "metadata": {
        "id": "view-in-github",
        "colab_type": "text"
      },
      "source": [
        "<a href=\"https://colab.research.google.com/github/Maria-arroyo18/Analitica-de-datos2025/blob/main/Reto_1_DataFrames_y_preprocesamiento.ipynb\" target=\"_parent\"><img src=\"https://colab.research.google.com/assets/colab-badge.svg\" alt=\"Open In Colab\"/></a>"
      ]
    },
    {
      "cell_type": "markdown",
      "id": "57c9698b",
      "metadata": {
        "id": "57c9698b"
      },
      "source": [
        "# Reto 1: Preprocesamiento y Análisis de Datos con Pandas\n",
        "\n",
        "## **Objetivo:**\n",
        "\n",
        "Aplicar técnicas de limpieza, transformación y análisis exploratorio de datos en Pandas.\n",
        "\n",
        " ---\n",
        " **Ejercicio 1: Carga de Datos**\n",
        "\n",
        " 1. Descarga el archivo \"datos_empresa.csv\"\n",
        " 2. Carga el archivo en un DataFrame de Pandas.\n",
        " 3. Muestra las primeras 5 filas del DataFrame.\n",
        "\n",
        " **Ejercicio 2: Exploración de Datos**\n",
        "\n",
        "1. Identifica cuántas filas y columnas tiene el dataset.\n",
        "2. Verifica si hay valores nulos en el dataset.\n",
        "3. Muestra las estadísticas generales del conjunto de datos.\n",
        "\n",
        "**Ejercicio 3: Limpieza y Transformación de Datos**\n",
        "\n",
        " 1. Elimina filas duplicadas si existen.\n",
        " 2. Rellena los valores nulos con la media de cada columna numérica.\n",
        " 3. Convierte la columna \"Fecha\" al tipo de dato datetime si existe.\n",
        "\n",
        "---"
      ]
    },
    {
      "cell_type": "markdown",
      "source": [
        "**Por María Fernanda Arroyo Berrocal**"
      ],
      "metadata": {
        "id": "0REfNRtly6eq"
      },
      "id": "0REfNRtly6eq"
    },
    {
      "cell_type": "markdown",
      "source": [
        "#**0. Cargamos las Librerías**"
      ],
      "metadata": {
        "id": "6KXEy0FEARQZ"
      },
      "id": "6KXEy0FEARQZ"
    },
    {
      "cell_type": "code",
      "source": [
        "import pandas as pd #Librería para tablas\n",
        "import numpy as np #Librería de uso algebráico\n",
        "import matplotlib.pyplot as plt #librería para gráficos\n",
        "import seaborn as sns #libreria para gráficos avanzados"
      ],
      "metadata": {
        "id": "IU4lWVrQAXxI"
      },
      "id": "IU4lWVrQAXxI",
      "execution_count": 1,
      "outputs": []
    },
    {
      "cell_type": "markdown",
      "source": [
        "#**Ejercicio 1: Carga de Datos**"
      ],
      "metadata": {
        "id": "1UCoxOat_UiF"
      },
      "id": "1UCoxOat_UiF"
    },
    {
      "cell_type": "code",
      "execution_count": 2,
      "id": "d31eef43",
      "metadata": {
        "id": "d31eef43"
      },
      "outputs": [],
      "source": [
        "#Cargamos el archivo en un DataFrame\n",
        "datos_empresa = pd.read_csv(\"/content/datos_empresa.csv\")"
      ]
    },
    {
      "cell_type": "code",
      "source": [
        "#Mostramos las primeras 5 filas del DataFrame\n",
        "datos_empresa.head(6)"
      ],
      "metadata": {
        "colab": {
          "base_uri": "https://localhost:8080/",
          "height": 238
        },
        "id": "Fup7unXcHJ3c",
        "outputId": "4880981f-d556-46d0-cff1-55c404ff3aad"
      },
      "id": "Fup7unXcHJ3c",
      "execution_count": 3,
      "outputs": [
        {
          "output_type": "execute_result",
          "data": {
            "text/plain": [
              "        Fecha      Sector  Ingresos    Costos  Utilidad\n",
              "0  2024-01-01    Finanzas  171958.0   41534.0    130424\n",
              "1  2024-01-02  Tecnologia  196867.0   70397.0    126470\n",
              "2  2024-01-03   Educacion  181932.0  121387.0     60545\n",
              "3  2024-01-04  Tecnologia  153694.0   31016.0    122678\n",
              "4  2024-01-05  Tecnologia  169879.0   85591.0     84288\n",
              "5  2024-01-06       Salud       NaN   53247.0    107021"
            ],
            "text/html": [
              "\n",
              "  <div id=\"df-f65fd063-4a3c-4ce4-b3db-7e1c0bedb7e3\" class=\"colab-df-container\">\n",
              "    <div>\n",
              "<style scoped>\n",
              "    .dataframe tbody tr th:only-of-type {\n",
              "        vertical-align: middle;\n",
              "    }\n",
              "\n",
              "    .dataframe tbody tr th {\n",
              "        vertical-align: top;\n",
              "    }\n",
              "\n",
              "    .dataframe thead th {\n",
              "        text-align: right;\n",
              "    }\n",
              "</style>\n",
              "<table border=\"1\" class=\"dataframe\">\n",
              "  <thead>\n",
              "    <tr style=\"text-align: right;\">\n",
              "      <th></th>\n",
              "      <th>Fecha</th>\n",
              "      <th>Sector</th>\n",
              "      <th>Ingresos</th>\n",
              "      <th>Costos</th>\n",
              "      <th>Utilidad</th>\n",
              "    </tr>\n",
              "  </thead>\n",
              "  <tbody>\n",
              "    <tr>\n",
              "      <th>0</th>\n",
              "      <td>2024-01-01</td>\n",
              "      <td>Finanzas</td>\n",
              "      <td>171958.0</td>\n",
              "      <td>41534.0</td>\n",
              "      <td>130424</td>\n",
              "    </tr>\n",
              "    <tr>\n",
              "      <th>1</th>\n",
              "      <td>2024-01-02</td>\n",
              "      <td>Tecnologia</td>\n",
              "      <td>196867.0</td>\n",
              "      <td>70397.0</td>\n",
              "      <td>126470</td>\n",
              "    </tr>\n",
              "    <tr>\n",
              "      <th>2</th>\n",
              "      <td>2024-01-03</td>\n",
              "      <td>Educacion</td>\n",
              "      <td>181932.0</td>\n",
              "      <td>121387.0</td>\n",
              "      <td>60545</td>\n",
              "    </tr>\n",
              "    <tr>\n",
              "      <th>3</th>\n",
              "      <td>2024-01-04</td>\n",
              "      <td>Tecnologia</td>\n",
              "      <td>153694.0</td>\n",
              "      <td>31016.0</td>\n",
              "      <td>122678</td>\n",
              "    </tr>\n",
              "    <tr>\n",
              "      <th>4</th>\n",
              "      <td>2024-01-05</td>\n",
              "      <td>Tecnologia</td>\n",
              "      <td>169879.0</td>\n",
              "      <td>85591.0</td>\n",
              "      <td>84288</td>\n",
              "    </tr>\n",
              "    <tr>\n",
              "      <th>5</th>\n",
              "      <td>2024-01-06</td>\n",
              "      <td>Salud</td>\n",
              "      <td>NaN</td>\n",
              "      <td>53247.0</td>\n",
              "      <td>107021</td>\n",
              "    </tr>\n",
              "  </tbody>\n",
              "</table>\n",
              "</div>\n",
              "    <div class=\"colab-df-buttons\">\n",
              "\n",
              "  <div class=\"colab-df-container\">\n",
              "    <button class=\"colab-df-convert\" onclick=\"convertToInteractive('df-f65fd063-4a3c-4ce4-b3db-7e1c0bedb7e3')\"\n",
              "            title=\"Convert this dataframe to an interactive table.\"\n",
              "            style=\"display:none;\">\n",
              "\n",
              "  <svg xmlns=\"http://www.w3.org/2000/svg\" height=\"24px\" viewBox=\"0 -960 960 960\">\n",
              "    <path d=\"M120-120v-720h720v720H120Zm60-500h600v-160H180v160Zm220 220h160v-160H400v160Zm0 220h160v-160H400v160ZM180-400h160v-160H180v160Zm440 0h160v-160H620v160ZM180-180h160v-160H180v160Zm440 0h160v-160H620v160Z\"/>\n",
              "  </svg>\n",
              "    </button>\n",
              "\n",
              "  <style>\n",
              "    .colab-df-container {\n",
              "      display:flex;\n",
              "      gap: 12px;\n",
              "    }\n",
              "\n",
              "    .colab-df-convert {\n",
              "      background-color: #E8F0FE;\n",
              "      border: none;\n",
              "      border-radius: 50%;\n",
              "      cursor: pointer;\n",
              "      display: none;\n",
              "      fill: #1967D2;\n",
              "      height: 32px;\n",
              "      padding: 0 0 0 0;\n",
              "      width: 32px;\n",
              "    }\n",
              "\n",
              "    .colab-df-convert:hover {\n",
              "      background-color: #E2EBFA;\n",
              "      box-shadow: 0px 1px 2px rgba(60, 64, 67, 0.3), 0px 1px 3px 1px rgba(60, 64, 67, 0.15);\n",
              "      fill: #174EA6;\n",
              "    }\n",
              "\n",
              "    .colab-df-buttons div {\n",
              "      margin-bottom: 4px;\n",
              "    }\n",
              "\n",
              "    [theme=dark] .colab-df-convert {\n",
              "      background-color: #3B4455;\n",
              "      fill: #D2E3FC;\n",
              "    }\n",
              "\n",
              "    [theme=dark] .colab-df-convert:hover {\n",
              "      background-color: #434B5C;\n",
              "      box-shadow: 0px 1px 3px 1px rgba(0, 0, 0, 0.15);\n",
              "      filter: drop-shadow(0px 1px 2px rgba(0, 0, 0, 0.3));\n",
              "      fill: #FFFFFF;\n",
              "    }\n",
              "  </style>\n",
              "\n",
              "    <script>\n",
              "      const buttonEl =\n",
              "        document.querySelector('#df-f65fd063-4a3c-4ce4-b3db-7e1c0bedb7e3 button.colab-df-convert');\n",
              "      buttonEl.style.display =\n",
              "        google.colab.kernel.accessAllowed ? 'block' : 'none';\n",
              "\n",
              "      async function convertToInteractive(key) {\n",
              "        const element = document.querySelector('#df-f65fd063-4a3c-4ce4-b3db-7e1c0bedb7e3');\n",
              "        const dataTable =\n",
              "          await google.colab.kernel.invokeFunction('convertToInteractive',\n",
              "                                                    [key], {});\n",
              "        if (!dataTable) return;\n",
              "\n",
              "        const docLinkHtml = 'Like what you see? Visit the ' +\n",
              "          '<a target=\"_blank\" href=https://colab.research.google.com/notebooks/data_table.ipynb>data table notebook</a>'\n",
              "          + ' to learn more about interactive tables.';\n",
              "        element.innerHTML = '';\n",
              "        dataTable['output_type'] = 'display_data';\n",
              "        await google.colab.output.renderOutput(dataTable, element);\n",
              "        const docLink = document.createElement('div');\n",
              "        docLink.innerHTML = docLinkHtml;\n",
              "        element.appendChild(docLink);\n",
              "      }\n",
              "    </script>\n",
              "  </div>\n",
              "\n",
              "\n",
              "<div id=\"df-a3efb10d-af70-4f9c-bd5d-f2a080ffd3b9\">\n",
              "  <button class=\"colab-df-quickchart\" onclick=\"quickchart('df-a3efb10d-af70-4f9c-bd5d-f2a080ffd3b9')\"\n",
              "            title=\"Suggest charts\"\n",
              "            style=\"display:none;\">\n",
              "\n",
              "<svg xmlns=\"http://www.w3.org/2000/svg\" height=\"24px\"viewBox=\"0 0 24 24\"\n",
              "     width=\"24px\">\n",
              "    <g>\n",
              "        <path d=\"M19 3H5c-1.1 0-2 .9-2 2v14c0 1.1.9 2 2 2h14c1.1 0 2-.9 2-2V5c0-1.1-.9-2-2-2zM9 17H7v-7h2v7zm4 0h-2V7h2v10zm4 0h-2v-4h2v4z\"/>\n",
              "    </g>\n",
              "</svg>\n",
              "  </button>\n",
              "\n",
              "<style>\n",
              "  .colab-df-quickchart {\n",
              "      --bg-color: #E8F0FE;\n",
              "      --fill-color: #1967D2;\n",
              "      --hover-bg-color: #E2EBFA;\n",
              "      --hover-fill-color: #174EA6;\n",
              "      --disabled-fill-color: #AAA;\n",
              "      --disabled-bg-color: #DDD;\n",
              "  }\n",
              "\n",
              "  [theme=dark] .colab-df-quickchart {\n",
              "      --bg-color: #3B4455;\n",
              "      --fill-color: #D2E3FC;\n",
              "      --hover-bg-color: #434B5C;\n",
              "      --hover-fill-color: #FFFFFF;\n",
              "      --disabled-bg-color: #3B4455;\n",
              "      --disabled-fill-color: #666;\n",
              "  }\n",
              "\n",
              "  .colab-df-quickchart {\n",
              "    background-color: var(--bg-color);\n",
              "    border: none;\n",
              "    border-radius: 50%;\n",
              "    cursor: pointer;\n",
              "    display: none;\n",
              "    fill: var(--fill-color);\n",
              "    height: 32px;\n",
              "    padding: 0;\n",
              "    width: 32px;\n",
              "  }\n",
              "\n",
              "  .colab-df-quickchart:hover {\n",
              "    background-color: var(--hover-bg-color);\n",
              "    box-shadow: 0 1px 2px rgba(60, 64, 67, 0.3), 0 1px 3px 1px rgba(60, 64, 67, 0.15);\n",
              "    fill: var(--button-hover-fill-color);\n",
              "  }\n",
              "\n",
              "  .colab-df-quickchart-complete:disabled,\n",
              "  .colab-df-quickchart-complete:disabled:hover {\n",
              "    background-color: var(--disabled-bg-color);\n",
              "    fill: var(--disabled-fill-color);\n",
              "    box-shadow: none;\n",
              "  }\n",
              "\n",
              "  .colab-df-spinner {\n",
              "    border: 2px solid var(--fill-color);\n",
              "    border-color: transparent;\n",
              "    border-bottom-color: var(--fill-color);\n",
              "    animation:\n",
              "      spin 1s steps(1) infinite;\n",
              "  }\n",
              "\n",
              "  @keyframes spin {\n",
              "    0% {\n",
              "      border-color: transparent;\n",
              "      border-bottom-color: var(--fill-color);\n",
              "      border-left-color: var(--fill-color);\n",
              "    }\n",
              "    20% {\n",
              "      border-color: transparent;\n",
              "      border-left-color: var(--fill-color);\n",
              "      border-top-color: var(--fill-color);\n",
              "    }\n",
              "    30% {\n",
              "      border-color: transparent;\n",
              "      border-left-color: var(--fill-color);\n",
              "      border-top-color: var(--fill-color);\n",
              "      border-right-color: var(--fill-color);\n",
              "    }\n",
              "    40% {\n",
              "      border-color: transparent;\n",
              "      border-right-color: var(--fill-color);\n",
              "      border-top-color: var(--fill-color);\n",
              "    }\n",
              "    60% {\n",
              "      border-color: transparent;\n",
              "      border-right-color: var(--fill-color);\n",
              "    }\n",
              "    80% {\n",
              "      border-color: transparent;\n",
              "      border-right-color: var(--fill-color);\n",
              "      border-bottom-color: var(--fill-color);\n",
              "    }\n",
              "    90% {\n",
              "      border-color: transparent;\n",
              "      border-bottom-color: var(--fill-color);\n",
              "    }\n",
              "  }\n",
              "</style>\n",
              "\n",
              "  <script>\n",
              "    async function quickchart(key) {\n",
              "      const quickchartButtonEl =\n",
              "        document.querySelector('#' + key + ' button');\n",
              "      quickchartButtonEl.disabled = true;  // To prevent multiple clicks.\n",
              "      quickchartButtonEl.classList.add('colab-df-spinner');\n",
              "      try {\n",
              "        const charts = await google.colab.kernel.invokeFunction(\n",
              "            'suggestCharts', [key], {});\n",
              "      } catch (error) {\n",
              "        console.error('Error during call to suggestCharts:', error);\n",
              "      }\n",
              "      quickchartButtonEl.classList.remove('colab-df-spinner');\n",
              "      quickchartButtonEl.classList.add('colab-df-quickchart-complete');\n",
              "    }\n",
              "    (() => {\n",
              "      let quickchartButtonEl =\n",
              "        document.querySelector('#df-a3efb10d-af70-4f9c-bd5d-f2a080ffd3b9 button');\n",
              "      quickchartButtonEl.style.display =\n",
              "        google.colab.kernel.accessAllowed ? 'block' : 'none';\n",
              "    })();\n",
              "  </script>\n",
              "</div>\n",
              "\n",
              "    </div>\n",
              "  </div>\n"
            ],
            "application/vnd.google.colaboratory.intrinsic+json": {
              "type": "dataframe",
              "variable_name": "datos_empresa",
              "summary": "{\n  \"name\": \"datos_empresa\",\n  \"rows\": 105,\n  \"fields\": [\n    {\n      \"column\": \"Fecha\",\n      \"properties\": {\n        \"dtype\": \"object\",\n        \"num_unique_values\": 100,\n        \"samples\": [\n          \"2024-03-24\",\n          \"2024-02-23\",\n          \"2024-03-11\"\n        ],\n        \"semantic_type\": \"\",\n        \"description\": \"\"\n      }\n    },\n    {\n      \"column\": \"Sector\",\n      \"properties\": {\n        \"dtype\": \"category\",\n        \"num_unique_values\": 5,\n        \"samples\": [\n          \"Tecnologia\",\n          \"Retail\",\n          \"Educacion\"\n        ],\n        \"semantic_type\": \"\",\n        \"description\": \"\"\n      }\n    },\n    {\n      \"column\": \"Ingresos\",\n      \"properties\": {\n        \"dtype\": \"number\",\n        \"std\": 68812.62810818994,\n        \"min\": 50769.0,\n        \"max\": 290181.0,\n        \"num_unique_values\": 94,\n        \"samples\": [\n          134654.0,\n          264176.0,\n          191699.0\n        ],\n        \"semantic_type\": \"\",\n        \"description\": \"\"\n      }\n    },\n    {\n      \"column\": \"Costos\",\n      \"properties\": {\n        \"dtype\": \"number\",\n        \"std\": 49175.71473959761,\n        \"min\": 31016.0,\n        \"max\": 194899.0,\n        \"num_unique_values\": 94,\n        \"samples\": [\n          143252.0,\n          68660.0,\n          140687.0\n        ],\n        \"semantic_type\": \"\",\n        \"description\": \"\"\n      }\n    },\n    {\n      \"column\": \"Utilidad\",\n      \"properties\": {\n        \"dtype\": \"number\",\n        \"std\": 87230,\n        \"min\": -103606,\n        \"max\": 243130,\n        \"num_unique_values\": 100,\n        \"samples\": [\n          87499,\n          14590,\n          -9128\n        ],\n        \"semantic_type\": \"\",\n        \"description\": \"\"\n      }\n    }\n  ]\n}"
            }
          },
          "metadata": {},
          "execution_count": 3
        }
      ]
    },
    {
      "cell_type": "markdown",
      "source": [
        "#**Ejercicio 2: Exploración de Datos**"
      ],
      "metadata": {
        "id": "T_LyvwIoH0Nn"
      },
      "id": "T_LyvwIoH0Nn"
    },
    {
      "cell_type": "code",
      "source": [
        "#Identificamos cuántas filas y columnas tiene el dataset\n",
        "datos_empresa.shape"
      ],
      "metadata": {
        "colab": {
          "base_uri": "https://localhost:8080/"
        },
        "id": "gLSlwRczIBlw",
        "outputId": "8ee7770e-7d82-4926-cc70-d3f82228f722"
      },
      "id": "gLSlwRczIBlw",
      "execution_count": 4,
      "outputs": [
        {
          "output_type": "execute_result",
          "data": {
            "text/plain": [
              "(105, 5)"
            ]
          },
          "metadata": {},
          "execution_count": 4
        }
      ]
    },
    {
      "cell_type": "markdown",
      "source": [
        "**Hay 105 filas y 5 columnas**"
      ],
      "metadata": {
        "id": "f78gzabwIxPZ"
      },
      "id": "f78gzabwIxPZ"
    },
    {
      "cell_type": "code",
      "source": [
        "#Verificamos si hay valores nulos en el dataset\n",
        "datos_empresa.isnull().sum()"
      ],
      "metadata": {
        "colab": {
          "base_uri": "https://localhost:8080/",
          "height": 241
        },
        "id": "Qz-tBJRpIm2Z",
        "outputId": "44ecafd5-c2e4-49f2-c1a9-04b183898a73"
      },
      "id": "Qz-tBJRpIm2Z",
      "execution_count": 5,
      "outputs": [
        {
          "output_type": "execute_result",
          "data": {
            "text/plain": [
              "Fecha       0\n",
              "Sector      3\n",
              "Ingresos    6\n",
              "Costos      6\n",
              "Utilidad    0\n",
              "dtype: int64"
            ],
            "text/html": [
              "<div>\n",
              "<style scoped>\n",
              "    .dataframe tbody tr th:only-of-type {\n",
              "        vertical-align: middle;\n",
              "    }\n",
              "\n",
              "    .dataframe tbody tr th {\n",
              "        vertical-align: top;\n",
              "    }\n",
              "\n",
              "    .dataframe thead th {\n",
              "        text-align: right;\n",
              "    }\n",
              "</style>\n",
              "<table border=\"1\" class=\"dataframe\">\n",
              "  <thead>\n",
              "    <tr style=\"text-align: right;\">\n",
              "      <th></th>\n",
              "      <th>0</th>\n",
              "    </tr>\n",
              "  </thead>\n",
              "  <tbody>\n",
              "    <tr>\n",
              "      <th>Fecha</th>\n",
              "      <td>0</td>\n",
              "    </tr>\n",
              "    <tr>\n",
              "      <th>Sector</th>\n",
              "      <td>3</td>\n",
              "    </tr>\n",
              "    <tr>\n",
              "      <th>Ingresos</th>\n",
              "      <td>6</td>\n",
              "    </tr>\n",
              "    <tr>\n",
              "      <th>Costos</th>\n",
              "      <td>6</td>\n",
              "    </tr>\n",
              "    <tr>\n",
              "      <th>Utilidad</th>\n",
              "      <td>0</td>\n",
              "    </tr>\n",
              "  </tbody>\n",
              "</table>\n",
              "</div><br><label><b>dtype:</b> int64</label>"
            ]
          },
          "metadata": {},
          "execution_count": 5
        }
      ]
    },
    {
      "cell_type": "markdown",
      "source": [
        "**Hay un total de 15 valores nulos en el dataset**"
      ],
      "metadata": {
        "id": "Aauaur29JJFw"
      },
      "id": "Aauaur29JJFw"
    },
    {
      "cell_type": "code",
      "source": [
        "#Vemos las estadísticas generales del conjunto de datos\n",
        "datos_empresa.info()"
      ],
      "metadata": {
        "colab": {
          "base_uri": "https://localhost:8080/"
        },
        "id": "CQc54S4kJJev",
        "outputId": "ed0c718d-a031-48d1-dd28-dcd021d61aad"
      },
      "id": "CQc54S4kJJev",
      "execution_count": 6,
      "outputs": [
        {
          "output_type": "stream",
          "name": "stdout",
          "text": [
            "<class 'pandas.core.frame.DataFrame'>\n",
            "RangeIndex: 105 entries, 0 to 104\n",
            "Data columns (total 5 columns):\n",
            " #   Column    Non-Null Count  Dtype  \n",
            "---  ------    --------------  -----  \n",
            " 0   Fecha     105 non-null    object \n",
            " 1   Sector    102 non-null    object \n",
            " 2   Ingresos  99 non-null     float64\n",
            " 3   Costos    99 non-null     float64\n",
            " 4   Utilidad  105 non-null    int64  \n",
            "dtypes: float64(2), int64(1), object(2)\n",
            "memory usage: 4.2+ KB\n"
          ]
        }
      ]
    },
    {
      "cell_type": "markdown",
      "source": [
        "#**Ejercicio 3: Limpieza y Transformación de Datos**"
      ],
      "metadata": {
        "id": "tTSNf86CKFxs"
      },
      "id": "tTSNf86CKFxs"
    },
    {
      "cell_type": "code",
      "source": [
        "#Verificamos si hay filas duplicadas\n",
        "datos_empresa.duplicated().sum()"
      ],
      "metadata": {
        "colab": {
          "base_uri": "https://localhost:8080/"
        },
        "id": "-9QNJZwoJ-6j",
        "outputId": "c3b8bdb8-7286-4556-deb1-a54939884442"
      },
      "id": "-9QNJZwoJ-6j",
      "execution_count": 7,
      "outputs": [
        {
          "output_type": "execute_result",
          "data": {
            "text/plain": [
              "5"
            ]
          },
          "metadata": {},
          "execution_count": 7
        }
      ]
    },
    {
      "cell_type": "markdown",
      "source": [
        "**Hay 5 filas duplicadas**"
      ],
      "metadata": {
        "id": "ErXgDglRLC12"
      },
      "id": "ErXgDglRLC12"
    },
    {
      "cell_type": "code",
      "source": [
        "#Procedemos a eliminar las filas duplicadas\n",
        "datos_empresa = datos_empresa.drop_duplicates()"
      ],
      "metadata": {
        "id": "dVXmzd86K_yI"
      },
      "id": "dVXmzd86K_yI",
      "execution_count": 13,
      "outputs": []
    },
    {
      "cell_type": "code",
      "source": [
        "#Rellenamos los valores nulos con la media de cada columna numérica.\n",
        "for columna in datos_empresa.select_dtypes(include=np.number).columns:\n",
        "    datos_empresa[columna] = datos_empresa[columna].fillna(datos_empresa[columna].mean())"
      ],
      "metadata": {
        "id": "vr-2Ksg5u4hm"
      },
      "id": "vr-2Ksg5u4hm",
      "execution_count": 14,
      "outputs": []
    },
    {
      "cell_type": "code",
      "source": [
        "#Verificamos que han sido eliminados\n",
        "datos_empresa.isnull().sum()"
      ],
      "metadata": {
        "colab": {
          "base_uri": "https://localhost:8080/",
          "height": 241
        },
        "id": "kl9b4b0Iv079",
        "outputId": "5ad4a223-0ce0-49b7-da97-8165b8be8ea8"
      },
      "id": "kl9b4b0Iv079",
      "execution_count": 15,
      "outputs": [
        {
          "output_type": "execute_result",
          "data": {
            "text/plain": [
              "Fecha       0\n",
              "Sector      0\n",
              "Ingresos    0\n",
              "Costos      0\n",
              "Utilidad    0\n",
              "dtype: int64"
            ],
            "text/html": [
              "<div>\n",
              "<style scoped>\n",
              "    .dataframe tbody tr th:only-of-type {\n",
              "        vertical-align: middle;\n",
              "    }\n",
              "\n",
              "    .dataframe tbody tr th {\n",
              "        vertical-align: top;\n",
              "    }\n",
              "\n",
              "    .dataframe thead th {\n",
              "        text-align: right;\n",
              "    }\n",
              "</style>\n",
              "<table border=\"1\" class=\"dataframe\">\n",
              "  <thead>\n",
              "    <tr style=\"text-align: right;\">\n",
              "      <th></th>\n",
              "      <th>0</th>\n",
              "    </tr>\n",
              "  </thead>\n",
              "  <tbody>\n",
              "    <tr>\n",
              "      <th>Fecha</th>\n",
              "      <td>0</td>\n",
              "    </tr>\n",
              "    <tr>\n",
              "      <th>Sector</th>\n",
              "      <td>0</td>\n",
              "    </tr>\n",
              "    <tr>\n",
              "      <th>Ingresos</th>\n",
              "      <td>0</td>\n",
              "    </tr>\n",
              "    <tr>\n",
              "      <th>Costos</th>\n",
              "      <td>0</td>\n",
              "    </tr>\n",
              "    <tr>\n",
              "      <th>Utilidad</th>\n",
              "      <td>0</td>\n",
              "    </tr>\n",
              "  </tbody>\n",
              "</table>\n",
              "</div><br><label><b>dtype:</b> int64</label>"
            ]
          },
          "metadata": {},
          "execution_count": 15
        }
      ]
    },
    {
      "cell_type": "code",
      "source": [
        "#Convertimos la columna \"Fecha\" al tipo de dato datetime si existe\n",
        "datos_empresa['Fecha'] = pd.to_datetime(datos_empresa['Fecha'])\n",
        "print(datos_empresa.dtypes)"
      ],
      "metadata": {
        "colab": {
          "base_uri": "https://localhost:8080/"
        },
        "id": "NdswK49mwlc5",
        "outputId": "0cef65cd-5e38-4c2d-fafc-365cac3fde58"
      },
      "id": "NdswK49mwlc5",
      "execution_count": 17,
      "outputs": [
        {
          "output_type": "stream",
          "name": "stdout",
          "text": [
            "Fecha       datetime64[ns]\n",
            "Sector              object\n",
            "Ingresos           float64\n",
            "Costos             float64\n",
            "Utilidad             int64\n",
            "dtype: object\n"
          ]
        }
      ]
    }
  ],
  "metadata": {
    "kernelspec": {
      "display_name": "Python 3 (ipykernel)",
      "language": "python",
      "name": "python3"
    },
    "language_info": {
      "codemirror_mode": {
        "name": "ipython",
        "version": 3
      },
      "file_extension": ".py",
      "mimetype": "text/x-python",
      "name": "python",
      "nbconvert_exporter": "python",
      "pygments_lexer": "ipython3",
      "version": "3.10.9"
    },
    "colab": {
      "provenance": [],
      "include_colab_link": true
    }
  },
  "nbformat": 4,
  "nbformat_minor": 5
}